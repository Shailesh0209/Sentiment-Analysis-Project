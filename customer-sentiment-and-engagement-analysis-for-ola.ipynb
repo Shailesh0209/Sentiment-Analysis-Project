{
 "cells": [
  {
   "cell_type": "code",
   "execution_count": 1,
   "id": "1812a40c",
   "metadata": {
    "execution": {
     "iopub.execute_input": "2025-01-06T17:50:20.423878Z",
     "iopub.status.busy": "2025-01-06T17:50:20.423517Z",
     "iopub.status.idle": "2025-01-06T17:50:21.279597Z",
     "shell.execute_reply": "2025-01-06T17:50:21.278215Z"
    },
    "papermill": {
     "duration": 0.867724,
     "end_time": "2025-01-06T17:50:21.281879",
     "exception": false,
     "start_time": "2025-01-06T17:50:20.414155",
     "status": "completed"
    },
    "tags": []
   },
   "outputs": [
    {
     "name": "stdout",
     "output_type": "stream",
     "text": [
      "/kaggle/input/Ola (1).json\n"
     ]
    }
   ],
   "source": [
    "# This Python 3 environment comes with many helpful analytics libraries installed\n",
    "# It is defined by the kaggle/python Docker image: https://github.com/kaggle/docker-python\n",
    "# For example, here's several helpful packages to load\n",
    "\n",
    "import numpy as np # linear algebra\n",
    "import pandas as pd # data processing, CSV file I/O (e.g. pd.read_csv)\n",
    "\n",
    "# Input data files are available in the read-only \"../input/\" directory\n",
    "# For example, running this (by clicking run or pressing Shift+Enter) will list all files under the input directory\n",
    "\n",
    "import os\n",
    "for dirname, _, filenames in os.walk('/kaggle/input'):\n",
    "    for filename in filenames:\n",
    "        print(os.path.join(dirname, filename))\n",
    "\n",
    "# You can write up to 20GB to the current directory (/kaggle/working/) that gets preserved as output when you create a version using \"Save & Run All\" \n",
    "# You can also write temporary files to /kaggle/temp/, but they won't be saved outside of the current session"
   ]
  },
  {
   "cell_type": "markdown",
   "id": "bf3eaedb",
   "metadata": {
    "papermill": {
     "duration": 0.006304,
     "end_time": "2025-01-06T17:50:21.295320",
     "exception": false,
     "start_time": "2025-01-06T17:50:21.289016",
     "status": "completed"
    },
    "tags": []
   },
   "source": []
  },
  {
   "cell_type": "markdown",
   "id": "3f12cb93",
   "metadata": {
    "papermill": {
     "duration": 0.006353,
     "end_time": "2025-01-06T17:50:21.308224",
     "exception": false,
     "start_time": "2025-01-06T17:50:21.301871",
     "status": "completed"
    },
    "tags": []
   },
   "source": [
    "# 1. Load and Explore Data"
   ]
  },
  {
   "cell_type": "code",
   "execution_count": 2,
   "id": "2f720886",
   "metadata": {
    "execution": {
     "iopub.execute_input": "2025-01-06T17:50:21.323225Z",
     "iopub.status.busy": "2025-01-06T17:50:21.322563Z",
     "iopub.status.idle": "2025-01-06T17:50:21.603531Z",
     "shell.execute_reply": "2025-01-06T17:50:21.602353Z"
    },
    "papermill": {
     "duration": 0.29122,
     "end_time": "2025-01-06T17:50:21.606031",
     "exception": false,
     "start_time": "2025-01-06T17:50:21.314811",
     "status": "completed"
    },
    "tags": []
   },
   "outputs": [],
   "source": [
    "import pandas as pd\n",
    "import json\n",
    "\n",
    "# Load JSON data\n",
    "with open('/kaggle/input/Ola (1).json', 'r') as file:\n",
    "    data = json.load(file)\n",
    "\n",
    "# Convert JSON to Pandas DataFrame\n",
    "df = pd.DataFrame(data)"
   ]
  },
  {
   "cell_type": "code",
   "execution_count": 3,
   "id": "cd3dbe64",
   "metadata": {
    "execution": {
     "iopub.execute_input": "2025-01-06T17:50:21.622212Z",
     "iopub.status.busy": "2025-01-06T17:50:21.621741Z",
     "iopub.status.idle": "2025-01-06T17:50:21.673559Z",
     "shell.execute_reply": "2025-01-06T17:50:21.672166Z"
    },
    "papermill": {
     "duration": 0.062606,
     "end_time": "2025-01-06T17:50:21.675890",
     "exception": false,
     "start_time": "2025-01-06T17:50:21.613284",
     "status": "completed"
    },
    "tags": []
   },
   "outputs": [
    {
     "data": {
      "text/html": [
       "<div>\n",
       "<style scoped>\n",
       "    .dataframe tbody tr th:only-of-type {\n",
       "        vertical-align: middle;\n",
       "    }\n",
       "\n",
       "    .dataframe tbody tr th {\n",
       "        vertical-align: top;\n",
       "    }\n",
       "\n",
       "    .dataframe thead th {\n",
       "        text-align: right;\n",
       "    }\n",
       "</style>\n",
       "<table border=\"1\" class=\"dataframe\">\n",
       "  <thead>\n",
       "    <tr style=\"text-align: right;\">\n",
       "      <th></th>\n",
       "      <th>tweet_id</th>\n",
       "      <th>content</th>\n",
       "      <th>datetime</th>\n",
       "      <th>likes</th>\n",
       "      <th>shares</th>\n",
       "      <th>views</th>\n",
       "      <th>source</th>\n",
       "      <th>isBlue</th>\n",
       "      <th>followers</th>\n",
       "      <th>hashtags</th>\n",
       "      <th>location</th>\n",
       "      <th>user_mentions</th>\n",
       "      <th>media</th>\n",
       "      <th>username</th>\n",
       "      <th>url</th>\n",
       "      <th>comments</th>\n",
       "    </tr>\n",
       "  </thead>\n",
       "  <tbody>\n",
       "    <tr>\n",
       "      <th>0</th>\n",
       "      <td>1871889326575136870</td>\n",
       "      <td>Yet again fucking driver accepted the booking ...</td>\n",
       "      <td>25-12-2024 12:02:48</td>\n",
       "      <td>0</td>\n",
       "      <td>0</td>\n",
       "      <td>23.0</td>\n",
       "      <td>TWITTER</td>\n",
       "      <td>False</td>\n",
       "      <td>93</td>\n",
       "      <td>None</td>\n",
       "      <td></td>\n",
       "      <td>[{'name': 'Ola', 'screen_name': 'Olacabs'}]</td>\n",
       "      <td>[https://pbs.twimg.com/media/GfpJadUXkAAqoVS.jpg]</td>\n",
       "      <td>desire24_</td>\n",
       "      <td>https://x.com/desire24_/status/187188932657513...</td>\n",
       "      <td>[]</td>\n",
       "    </tr>\n",
       "    <tr>\n",
       "      <th>1</th>\n",
       "      <td>1871076431754580058</td>\n",
       "      <td>More than 1 hour and the food is still not her...</td>\n",
       "      <td>23-12-2024 06:12:38</td>\n",
       "      <td>2</td>\n",
       "      <td>1</td>\n",
       "      <td>107.0</td>\n",
       "      <td>TWITTER</td>\n",
       "      <td>False</td>\n",
       "      <td>72</td>\n",
       "      <td>[olafoods]</td>\n",
       "      <td></td>\n",
       "      <td>[{'name': 'Ola', 'screen_name': 'Olacabs'}, {'...</td>\n",
       "      <td>[https://pbs.twimg.com/media/GfdmGSrWUAA5ZTP.jpg]</td>\n",
       "      <td>Karan0072Karan</td>\n",
       "      <td>https://x.com/Karan0072Karan/status/1871076431...</td>\n",
       "      <td>[{'content': 'Customer care services are alway...</td>\n",
       "    </tr>\n",
       "    <tr>\n",
       "      <th>2</th>\n",
       "      <td>1871827021585928588</td>\n",
       "      <td>No one is constantly as motherfucking assholes...</td>\n",
       "      <td>25-12-2024 07:55:13</td>\n",
       "      <td>0</td>\n",
       "      <td>0</td>\n",
       "      <td>15.0</td>\n",
       "      <td>TWITTER</td>\n",
       "      <td>False</td>\n",
       "      <td>93</td>\n",
       "      <td>None</td>\n",
       "      <td></td>\n",
       "      <td>[{'name': 'Ola', 'screen_name': 'Olacabs'}]</td>\n",
       "      <td>[https://pbs.twimg.com/media/GfoQv5zXIAAcjA_.jpg]</td>\n",
       "      <td>desire24_</td>\n",
       "      <td>https://x.com/desire24_/status/187182702158592...</td>\n",
       "      <td>[]</td>\n",
       "    </tr>\n",
       "    <tr>\n",
       "      <th>3</th>\n",
       "      <td>1580646160326615041</td>\n",
       "      <td>Freelance content writers needed. Fully remote...</td>\n",
       "      <td>13-10-2022 19:46:26</td>\n",
       "      <td>396</td>\n",
       "      <td>208</td>\n",
       "      <td>NaN</td>\n",
       "      <td>TWITTER</td>\n",
       "      <td>False</td>\n",
       "      <td>101828</td>\n",
       "      <td>None</td>\n",
       "      <td></td>\n",
       "      <td>[]</td>\n",
       "      <td>[https://pbs.twimg.com/media/Fe-VSXbWIAAaMIe.j...</td>\n",
       "      <td>OlamideTowobola</td>\n",
       "      <td>https://x.com/OlamideTowobola/status/158064616...</td>\n",
       "      <td>[{'content': 'FYI', 'likes': 0, 'shares': 0, '...</td>\n",
       "    </tr>\n",
       "    <tr>\n",
       "      <th>4</th>\n",
       "      <td>1863291107477721485</td>\n",
       "      <td>, Are you guys even concerned about what type ...</td>\n",
       "      <td>01-12-2024 18:36:32</td>\n",
       "      <td>0</td>\n",
       "      <td>0</td>\n",
       "      <td>32.0</td>\n",
       "      <td>TWITTER</td>\n",
       "      <td>False</td>\n",
       "      <td>47</td>\n",
       "      <td>None</td>\n",
       "      <td></td>\n",
       "      <td>[{'name': 'Ola', 'screen_name': 'ola_zkzkvm'},...</td>\n",
       "      <td>[https://pbs.twimg.com/media/Gdu9YbvXkAApPHn.jpg]</td>\n",
       "      <td>DWasish</td>\n",
       "      <td>https://x.com/DWasish/status/1863291107477721485</td>\n",
       "      <td>[{'content': 'This type of people going forwar...</td>\n",
       "    </tr>\n",
       "    <tr>\n",
       "      <th>...</th>\n",
       "      <td>...</td>\n",
       "      <td>...</td>\n",
       "      <td>...</td>\n",
       "      <td>...</td>\n",
       "      <td>...</td>\n",
       "      <td>...</td>\n",
       "      <td>...</td>\n",
       "      <td>...</td>\n",
       "      <td>...</td>\n",
       "      <td>...</td>\n",
       "      <td>...</td>\n",
       "      <td>...</td>\n",
       "      <td>...</td>\n",
       "      <td>...</td>\n",
       "      <td>...</td>\n",
       "      <td>...</td>\n",
       "    </tr>\n",
       "    <tr>\n",
       "      <th>3239</th>\n",
       "      <td>1771775963551928786</td>\n",
       "      <td>Near death experience Zero ratings for design ...</td>\n",
       "      <td>24-03-2024 05:48:02</td>\n",
       "      <td>0</td>\n",
       "      <td>0</td>\n",
       "      <td>37.0</td>\n",
       "      <td>TWITTER</td>\n",
       "      <td>False</td>\n",
       "      <td>25</td>\n",
       "      <td>None</td>\n",
       "      <td></td>\n",
       "      <td>[{'name': 'Gowtham Prabakaran', 'screen_name':...</td>\n",
       "      <td>[https://pbs.twimg.com/media/GJac0HUWUAAXTB4.j...</td>\n",
       "      <td>Machindra_twit</td>\n",
       "      <td>https://x.com/Machindra_twit/status/1771775963...</td>\n",
       "      <td>[]</td>\n",
       "    </tr>\n",
       "    <tr>\n",
       "      <th>3240</th>\n",
       "      <td>1771760790002979045</td>\n",
       "      <td>Near death experience on highway, pathetic des...</td>\n",
       "      <td>24-03-2024 04:47:44</td>\n",
       "      <td>0</td>\n",
       "      <td>0</td>\n",
       "      <td>92.0</td>\n",
       "      <td>TWITTER</td>\n",
       "      <td>False</td>\n",
       "      <td>25</td>\n",
       "      <td>None</td>\n",
       "      <td></td>\n",
       "      <td>[{'name': 'Ola Electric', 'screen_name': 'OlaE...</td>\n",
       "      <td>[https://pbs.twimg.com/media/GJaPChOWgAAhMEH.jpg]</td>\n",
       "      <td>Machindra_twit</td>\n",
       "      <td>https://x.com/Machindra_twit/status/1771760790...</td>\n",
       "      <td>[]</td>\n",
       "    </tr>\n",
       "    <tr>\n",
       "      <th>3241</th>\n",
       "      <td>1769632850280874243</td>\n",
       "      <td>Still nothing.. the front wheel wobbling and O...</td>\n",
       "      <td>18-03-2024 07:52:04</td>\n",
       "      <td>0</td>\n",
       "      <td>0</td>\n",
       "      <td>22.0</td>\n",
       "      <td>TWITTER</td>\n",
       "      <td>False</td>\n",
       "      <td>3</td>\n",
       "      <td>None</td>\n",
       "      <td></td>\n",
       "      <td>[{'name': 'Ola Electric', 'screen_name': 'OlaE...</td>\n",
       "      <td>[]</td>\n",
       "      <td>Robby_pitta</td>\n",
       "      <td>https://x.com/Robby_pitta/status/1769632850280...</td>\n",
       "      <td>[]</td>\n",
       "    </tr>\n",
       "    <tr>\n",
       "      <th>3242</th>\n",
       "      <td>1768831813382991924</td>\n",
       "      <td>After olas death?</td>\n",
       "      <td>16-03-2024 02:49:02</td>\n",
       "      <td>0</td>\n",
       "      <td>0</td>\n",
       "      <td>10.0</td>\n",
       "      <td>TWITTER</td>\n",
       "      <td>False</td>\n",
       "      <td>79</td>\n",
       "      <td>None</td>\n",
       "      <td></td>\n",
       "      <td>[{'name': 'Ola Electric', 'screen_name': 'OlaE...</td>\n",
       "      <td>[]</td>\n",
       "      <td>saurabh2asutkar</td>\n",
       "      <td>https://x.com/saurabh2asutkar/status/176883181...</td>\n",
       "      <td>[]</td>\n",
       "    </tr>\n",
       "    <tr>\n",
       "      <th>3243</th>\n",
       "      <td>1768373289980965187</td>\n",
       "      <td>My vehicle has still not come back to me they ...</td>\n",
       "      <td>14-03-2024 20:27:01</td>\n",
       "      <td>1</td>\n",
       "      <td>1</td>\n",
       "      <td>41.0</td>\n",
       "      <td>TWITTER</td>\n",
       "      <td>False</td>\n",
       "      <td>15</td>\n",
       "      <td>None</td>\n",
       "      <td></td>\n",
       "      <td>[{'name': 'Md. Arif', 'screen_name': 'Arifpres...</td>\n",
       "      <td>[]</td>\n",
       "      <td>Shadycw</td>\n",
       "      <td>https://x.com/Shadycw/status/1768373289980965187</td>\n",
       "      <td>[]</td>\n",
       "    </tr>\n",
       "  </tbody>\n",
       "</table>\n",
       "<p>3244 rows × 16 columns</p>\n",
       "</div>"
      ],
      "text/plain": [
       "                 tweet_id                                            content  \\\n",
       "0     1871889326575136870  Yet again fucking driver accepted the booking ...   \n",
       "1     1871076431754580058  More than 1 hour and the food is still not her...   \n",
       "2     1871827021585928588  No one is constantly as motherfucking assholes...   \n",
       "3     1580646160326615041  Freelance content writers needed. Fully remote...   \n",
       "4     1863291107477721485  , Are you guys even concerned about what type ...   \n",
       "...                   ...                                                ...   \n",
       "3239  1771775963551928786  Near death experience Zero ratings for design ...   \n",
       "3240  1771760790002979045  Near death experience on highway, pathetic des...   \n",
       "3241  1769632850280874243  Still nothing.. the front wheel wobbling and O...   \n",
       "3242  1768831813382991924                                  After olas death?   \n",
       "3243  1768373289980965187  My vehicle has still not come back to me they ...   \n",
       "\n",
       "                 datetime  likes  shares  views   source  isBlue  followers  \\\n",
       "0     25-12-2024 12:02:48      0       0   23.0  TWITTER   False         93   \n",
       "1     23-12-2024 06:12:38      2       1  107.0  TWITTER   False         72   \n",
       "2     25-12-2024 07:55:13      0       0   15.0  TWITTER   False         93   \n",
       "3     13-10-2022 19:46:26    396     208    NaN  TWITTER   False     101828   \n",
       "4     01-12-2024 18:36:32      0       0   32.0  TWITTER   False         47   \n",
       "...                   ...    ...     ...    ...      ...     ...        ...   \n",
       "3239  24-03-2024 05:48:02      0       0   37.0  TWITTER   False         25   \n",
       "3240  24-03-2024 04:47:44      0       0   92.0  TWITTER   False         25   \n",
       "3241  18-03-2024 07:52:04      0       0   22.0  TWITTER   False          3   \n",
       "3242  16-03-2024 02:49:02      0       0   10.0  TWITTER   False         79   \n",
       "3243  14-03-2024 20:27:01      1       1   41.0  TWITTER   False         15   \n",
       "\n",
       "        hashtags location                                      user_mentions  \\\n",
       "0           None                 [{'name': 'Ola', 'screen_name': 'Olacabs'}]   \n",
       "1     [olafoods]           [{'name': 'Ola', 'screen_name': 'Olacabs'}, {'...   \n",
       "2           None                 [{'name': 'Ola', 'screen_name': 'Olacabs'}]   \n",
       "3           None                                                          []   \n",
       "4           None           [{'name': 'Ola', 'screen_name': 'ola_zkzkvm'},...   \n",
       "...          ...      ...                                                ...   \n",
       "3239        None           [{'name': 'Gowtham Prabakaran', 'screen_name':...   \n",
       "3240        None           [{'name': 'Ola Electric', 'screen_name': 'OlaE...   \n",
       "3241        None           [{'name': 'Ola Electric', 'screen_name': 'OlaE...   \n",
       "3242        None           [{'name': 'Ola Electric', 'screen_name': 'OlaE...   \n",
       "3243        None           [{'name': 'Md. Arif', 'screen_name': 'Arifpres...   \n",
       "\n",
       "                                                  media         username  \\\n",
       "0     [https://pbs.twimg.com/media/GfpJadUXkAAqoVS.jpg]        desire24_   \n",
       "1     [https://pbs.twimg.com/media/GfdmGSrWUAA5ZTP.jpg]   Karan0072Karan   \n",
       "2     [https://pbs.twimg.com/media/GfoQv5zXIAAcjA_.jpg]        desire24_   \n",
       "3     [https://pbs.twimg.com/media/Fe-VSXbWIAAaMIe.j...  OlamideTowobola   \n",
       "4     [https://pbs.twimg.com/media/Gdu9YbvXkAApPHn.jpg]          DWasish   \n",
       "...                                                 ...              ...   \n",
       "3239  [https://pbs.twimg.com/media/GJac0HUWUAAXTB4.j...   Machindra_twit   \n",
       "3240  [https://pbs.twimg.com/media/GJaPChOWgAAhMEH.jpg]   Machindra_twit   \n",
       "3241                                                 []      Robby_pitta   \n",
       "3242                                                 []  saurabh2asutkar   \n",
       "3243                                                 []          Shadycw   \n",
       "\n",
       "                                                    url  \\\n",
       "0     https://x.com/desire24_/status/187188932657513...   \n",
       "1     https://x.com/Karan0072Karan/status/1871076431...   \n",
       "2     https://x.com/desire24_/status/187182702158592...   \n",
       "3     https://x.com/OlamideTowobola/status/158064616...   \n",
       "4      https://x.com/DWasish/status/1863291107477721485   \n",
       "...                                                 ...   \n",
       "3239  https://x.com/Machindra_twit/status/1771775963...   \n",
       "3240  https://x.com/Machindra_twit/status/1771760790...   \n",
       "3241  https://x.com/Robby_pitta/status/1769632850280...   \n",
       "3242  https://x.com/saurabh2asutkar/status/176883181...   \n",
       "3243   https://x.com/Shadycw/status/1768373289980965187   \n",
       "\n",
       "                                               comments  \n",
       "0                                                    []  \n",
       "1     [{'content': 'Customer care services are alway...  \n",
       "2                                                    []  \n",
       "3     [{'content': 'FYI', 'likes': 0, 'shares': 0, '...  \n",
       "4     [{'content': 'This type of people going forwar...  \n",
       "...                                                 ...  \n",
       "3239                                                 []  \n",
       "3240                                                 []  \n",
       "3241                                                 []  \n",
       "3242                                                 []  \n",
       "3243                                                 []  \n",
       "\n",
       "[3244 rows x 16 columns]"
      ]
     },
     "execution_count": 3,
     "metadata": {},
     "output_type": "execute_result"
    }
   ],
   "source": [
    "df"
   ]
  },
  {
   "cell_type": "code",
   "execution_count": 4,
   "id": "bbca09dc",
   "metadata": {
    "execution": {
     "iopub.execute_input": "2025-01-06T17:50:21.692367Z",
     "iopub.status.busy": "2025-01-06T17:50:21.691882Z",
     "iopub.status.idle": "2025-01-06T17:50:21.724592Z",
     "shell.execute_reply": "2025-01-06T17:50:21.722934Z"
    },
    "papermill": {
     "duration": 0.043201,
     "end_time": "2025-01-06T17:50:21.726591",
     "exception": false,
     "start_time": "2025-01-06T17:50:21.683390",
     "status": "completed"
    },
    "tags": []
   },
   "outputs": [
    {
     "name": "stdout",
     "output_type": "stream",
     "text": [
      "<class 'pandas.core.frame.DataFrame'>\n",
      "RangeIndex: 3244 entries, 0 to 3243\n",
      "Data columns (total 16 columns):\n",
      " #   Column         Non-Null Count  Dtype  \n",
      "---  ------         --------------  -----  \n",
      " 0   tweet_id       3244 non-null   object \n",
      " 1   content        3244 non-null   object \n",
      " 2   datetime       3244 non-null   object \n",
      " 3   likes          3244 non-null   int64  \n",
      " 4   shares         3244 non-null   int64  \n",
      " 5   views          2442 non-null   float64\n",
      " 6   source         3244 non-null   object \n",
      " 7   isBlue         3244 non-null   bool   \n",
      " 8   followers      3244 non-null   int64  \n",
      " 9   hashtags       1097 non-null   object \n",
      " 10  location       3244 non-null   object \n",
      " 11  user_mentions  3244 non-null   object \n",
      " 12  media          3244 non-null   object \n",
      " 13  username       3244 non-null   object \n",
      " 14  url            3244 non-null   object \n",
      " 15  comments       3244 non-null   object \n",
      "dtypes: bool(1), float64(1), int64(3), object(11)\n",
      "memory usage: 383.4+ KB\n"
     ]
    }
   ],
   "source": [
    "df.info()"
   ]
  },
  {
   "cell_type": "code",
   "execution_count": 5,
   "id": "e2ea2ce3",
   "metadata": {
    "execution": {
     "iopub.execute_input": "2025-01-06T17:50:21.743345Z",
     "iopub.status.busy": "2025-01-06T17:50:21.742868Z",
     "iopub.status.idle": "2025-01-06T17:50:21.756708Z",
     "shell.execute_reply": "2025-01-06T17:50:21.754947Z"
    },
    "papermill": {
     "duration": 0.024675,
     "end_time": "2025-01-06T17:50:21.758672",
     "exception": false,
     "start_time": "2025-01-06T17:50:21.733997",
     "status": "completed"
    },
    "tags": []
   },
   "outputs": [
    {
     "name": "stdout",
     "output_type": "stream",
     "text": [
      "tweet_id            0\n",
      "content             0\n",
      "datetime            0\n",
      "likes               0\n",
      "shares              0\n",
      "views             802\n",
      "source              0\n",
      "isBlue              0\n",
      "followers           0\n",
      "hashtags         2147\n",
      "location            0\n",
      "user_mentions       0\n",
      "media               0\n",
      "username            0\n",
      "url                 0\n",
      "comments            0\n",
      "dtype: int64\n"
     ]
    }
   ],
   "source": [
    "null_counts = df.isnull().sum()\n",
    "print(null_counts)\n"
   ]
  },
  {
   "cell_type": "code",
   "execution_count": 6,
   "id": "6337980e",
   "metadata": {
    "execution": {
     "iopub.execute_input": "2025-01-06T17:50:21.776418Z",
     "iopub.status.busy": "2025-01-06T17:50:21.775940Z",
     "iopub.status.idle": "2025-01-06T17:50:21.800306Z",
     "shell.execute_reply": "2025-01-06T17:50:21.798959Z"
    },
    "papermill": {
     "duration": 0.03523,
     "end_time": "2025-01-06T17:50:21.802039",
     "exception": false,
     "start_time": "2025-01-06T17:50:21.766809",
     "status": "completed"
    },
    "tags": []
   },
   "outputs": [
    {
     "data": {
      "text/html": [
       "<div>\n",
       "<style scoped>\n",
       "    .dataframe tbody tr th:only-of-type {\n",
       "        vertical-align: middle;\n",
       "    }\n",
       "\n",
       "    .dataframe tbody tr th {\n",
       "        vertical-align: top;\n",
       "    }\n",
       "\n",
       "    .dataframe thead th {\n",
       "        text-align: right;\n",
       "    }\n",
       "</style>\n",
       "<table border=\"1\" class=\"dataframe\">\n",
       "  <thead>\n",
       "    <tr style=\"text-align: right;\">\n",
       "      <th></th>\n",
       "      <th>likes</th>\n",
       "      <th>shares</th>\n",
       "      <th>views</th>\n",
       "      <th>followers</th>\n",
       "    </tr>\n",
       "  </thead>\n",
       "  <tbody>\n",
       "    <tr>\n",
       "      <th>count</th>\n",
       "      <td>3244.000000</td>\n",
       "      <td>3244.000000</td>\n",
       "      <td>2.442000e+03</td>\n",
       "      <td>3.244000e+03</td>\n",
       "    </tr>\n",
       "    <tr>\n",
       "      <th>mean</th>\n",
       "      <td>154.172010</td>\n",
       "      <td>35.261097</td>\n",
       "      <td>2.044562e+04</td>\n",
       "      <td>1.309216e+05</td>\n",
       "    </tr>\n",
       "    <tr>\n",
       "      <th>std</th>\n",
       "      <td>801.684872</td>\n",
       "      <td>373.585152</td>\n",
       "      <td>1.346614e+05</td>\n",
       "      <td>7.850459e+05</td>\n",
       "    </tr>\n",
       "    <tr>\n",
       "      <th>min</th>\n",
       "      <td>0.000000</td>\n",
       "      <td>0.000000</td>\n",
       "      <td>1.000000e+00</td>\n",
       "      <td>0.000000e+00</td>\n",
       "    </tr>\n",
       "    <tr>\n",
       "      <th>25%</th>\n",
       "      <td>0.000000</td>\n",
       "      <td>0.000000</td>\n",
       "      <td>2.000000e+01</td>\n",
       "      <td>5.200000e+01</td>\n",
       "    </tr>\n",
       "    <tr>\n",
       "      <th>50%</th>\n",
       "      <td>0.000000</td>\n",
       "      <td>0.000000</td>\n",
       "      <td>5.100000e+01</td>\n",
       "      <td>4.705000e+02</td>\n",
       "    </tr>\n",
       "    <tr>\n",
       "      <th>75%</th>\n",
       "      <td>5.000000</td>\n",
       "      <td>1.000000</td>\n",
       "      <td>2.900000e+02</td>\n",
       "      <td>1.431850e+04</td>\n",
       "    </tr>\n",
       "    <tr>\n",
       "      <th>max</th>\n",
       "      <td>20725.000000</td>\n",
       "      <td>17964.000000</td>\n",
       "      <td>2.272445e+06</td>\n",
       "      <td>1.795895e+07</td>\n",
       "    </tr>\n",
       "  </tbody>\n",
       "</table>\n",
       "</div>"
      ],
      "text/plain": [
       "              likes        shares         views     followers\n",
       "count   3244.000000   3244.000000  2.442000e+03  3.244000e+03\n",
       "mean     154.172010     35.261097  2.044562e+04  1.309216e+05\n",
       "std      801.684872    373.585152  1.346614e+05  7.850459e+05\n",
       "min        0.000000      0.000000  1.000000e+00  0.000000e+00\n",
       "25%        0.000000      0.000000  2.000000e+01  5.200000e+01\n",
       "50%        0.000000      0.000000  5.100000e+01  4.705000e+02\n",
       "75%        5.000000      1.000000  2.900000e+02  1.431850e+04\n",
       "max    20725.000000  17964.000000  2.272445e+06  1.795895e+07"
      ]
     },
     "execution_count": 6,
     "metadata": {},
     "output_type": "execute_result"
    }
   ],
   "source": [
    "df.describe()"
   ]
  },
  {
   "cell_type": "markdown",
   "id": "66175057",
   "metadata": {
    "papermill": {
     "duration": 0.007409,
     "end_time": "2025-01-06T17:50:21.817184",
     "exception": false,
     "start_time": "2025-01-06T17:50:21.809775",
     "status": "completed"
    },
    "tags": []
   },
   "source": [
    "# 2. Data Cleaning and Preparation"
   ]
  },
  {
   "cell_type": "code",
   "execution_count": 7,
   "id": "3a7aa5ef",
   "metadata": {
    "execution": {
     "iopub.execute_input": "2025-01-06T17:50:21.834751Z",
     "iopub.status.busy": "2025-01-06T17:50:21.834315Z",
     "iopub.status.idle": "2025-01-06T17:50:22.049511Z",
     "shell.execute_reply": "2025-01-06T17:50:22.047873Z"
    },
    "papermill": {
     "duration": 0.226259,
     "end_time": "2025-01-06T17:50:22.051497",
     "exception": false,
     "start_time": "2025-01-06T17:50:21.825238",
     "status": "completed"
    },
    "tags": []
   },
   "outputs": [
    {
     "name": "stdout",
     "output_type": "stream",
     "text": [
      "Data cleaned and saved to 'cleaned_ola_data.csv'\n"
     ]
    }
   ],
   "source": [
    "# Drop unnecessary columns\n",
    "df = df.drop(columns=['media', 'location'], errors='ignore')\n",
    "\n",
    "# Separate numeric and non-numeric columns\n",
    "numeric_cols = df.select_dtypes(include=['number']).columns\n",
    "non_numeric_cols = df.select_dtypes(exclude=['number']).columns\n",
    "\n",
    "# Fill NaN values in numeric columns with 0\n",
    "df[numeric_cols] = df[numeric_cols].fillna(0)\n",
    "\n",
    "# Fill NaN values in non-numeric columns with an empty string\n",
    "df[non_numeric_cols] = df[non_numeric_cols].fillna('')\n",
    "\n",
    "# Convert datetime column to Pandas datetime format\n",
    "df['datetime'] = pd.to_datetime(df['datetime'], format='%d-%m-%Y %H:%M:%S', errors='coerce')\n",
    "\n",
    "# Ensure numeric types for 'likes', 'shares', and 'views'\n",
    "df['likes'] = pd.to_numeric(df['likes'], errors='coerce').fillna(0)\n",
    "df['shares'] = pd.to_numeric(df['shares'], errors='coerce').fillna(0)\n",
    "df['views'] = pd.to_numeric(df['views'], errors='coerce').fillna(0)\n",
    "\n",
    "# Ensure 'comments' column is a list; replace invalid values with an empty list\n",
    "df['comments'] = df['comments'].apply(lambda x: x if isinstance(x, list) else [])\n",
    "\n",
    "# Create a new column for engagement score\n",
    "df['engagement_score'] = df['likes'] + df['shares'] + df['comments'].apply(len)\n",
    "\n",
    "# Save cleaned data\n",
    "df.to_csv('cleaned_ola_data.csv', index=False)\n",
    "\n",
    "# Print confirmation\n",
    "print(\"Data cleaned and saved to 'cleaned_ola_data.csv'\")\n"
   ]
  },
  {
   "cell_type": "markdown",
   "id": "346278a2",
   "metadata": {
    "papermill": {
     "duration": 0.007271,
     "end_time": "2025-01-06T17:50:22.066866",
     "exception": false,
     "start_time": "2025-01-06T17:50:22.059595",
     "status": "completed"
    },
    "tags": []
   },
   "source": [
    "# 3. Descriptive Analysis"
   ]
  },
  {
   "cell_type": "code",
   "execution_count": 8,
   "id": "ca4b07f7",
   "metadata": {
    "execution": {
     "iopub.execute_input": "2025-01-06T17:50:22.083562Z",
     "iopub.status.busy": "2025-01-06T17:50:22.083107Z",
     "iopub.status.idle": "2025-01-06T17:50:22.116378Z",
     "shell.execute_reply": "2025-01-06T17:50:22.114748Z"
    },
    "papermill": {
     "duration": 0.044054,
     "end_time": "2025-01-06T17:50:22.118373",
     "exception": false,
     "start_time": "2025-01-06T17:50:22.074319",
     "status": "completed"
    },
    "tags": []
   },
   "outputs": [
    {
     "name": "stdout",
     "output_type": "stream",
     "text": [
      "\n",
      "The 'media' column is not available in the dataset.\n",
      "\n",
      "Basic Statistics for Engagement Metrics:\n",
      "               likes        shares         views  engagement_score\n",
      "count   3244.000000   3244.000000  3.244000e+03       3244.000000\n",
      "mean     154.172010     35.261097  1.539094e+04        193.913995\n",
      "std      801.684872    373.585152  1.171623e+05       1004.232438\n",
      "min        0.000000      0.000000  0.000000e+00          0.000000\n",
      "25%        0.000000      0.000000  1.000000e+00          0.000000\n",
      "50%        0.000000      0.000000  2.600000e+01          1.000000\n",
      "75%        5.000000      1.000000  1.222500e+02          7.000000\n",
      "max    20725.000000  17964.000000  2.272445e+06      23495.000000\n",
      "\n",
      "Top 5 Posts with Highest Engagement:\n",
      "                                                content  engagement_score\n",
      "30   HELP WANTED Tons of PAID work opportunities fo...             23495\n",
      "592                             lay off 17.50 5 access             20754\n",
      "382  Who said the job market is bad? Just complain ...             20548\n",
      "723  I am getting laid off 12/31 but I am going to ...             18682\n",
      "202  While the OLA electric CEO rants on someone el...             16767\n"
     ]
    }
   ],
   "source": [
    "# basic statistics for engagement metrics\n",
    "engagement_metrics = ['likes', 'shares', 'views', 'engagement_score']\n",
    "stats = df[engagement_metrics].describe()\n",
    "\n",
    "# top 5 posts with the highest engagement\n",
    "top_posts = df.nlargest(5, 'engagement_score')\n",
    "\n",
    "# Check and count posts with media attachments\n",
    "if 'media' in df.columns:\n",
    "    media_posts_count = df['media'].apply(lambda x: len(x) > 0 if isinstance(x, list) else False).sum()\n",
    "    print(\"\\nNumber of posts with media attachments:\", media_posts_count)\n",
    "else:\n",
    "    print(\"\\nThe 'media' column is not available in the dataset.\")\n",
    "\n",
    "print(\"\\nBasic Statistics for Engagement Metrics:\\n\", stats)\n",
    "\n",
    "print(\"\\nTop 5 Posts with Highest Engagement:\\n\", top_posts[['content', 'engagement_score']])\n"
   ]
  },
  {
   "cell_type": "markdown",
   "id": "c49f831b",
   "metadata": {
    "papermill": {
     "duration": 0.007291,
     "end_time": "2025-01-06T17:50:22.133519",
     "exception": false,
     "start_time": "2025-01-06T17:50:22.126228",
     "status": "completed"
    },
    "tags": []
   },
   "source": [
    "# 4. Sentiment Analysis\n",
    "Using TextBlob for sentiment analysis:"
   ]
  },
  {
   "cell_type": "code",
   "execution_count": 9,
   "id": "9b4e483c",
   "metadata": {
    "execution": {
     "iopub.execute_input": "2025-01-06T17:50:22.150546Z",
     "iopub.status.busy": "2025-01-06T17:50:22.150010Z",
     "iopub.status.idle": "2025-01-06T17:50:22.159068Z",
     "shell.execute_reply": "2025-01-06T17:50:22.157817Z"
    },
    "papermill": {
     "duration": 0.019814,
     "end_time": "2025-01-06T17:50:22.160942",
     "exception": false,
     "start_time": "2025-01-06T17:50:22.141128",
     "status": "completed"
    },
    "tags": []
   },
   "outputs": [
    {
     "data": {
      "text/plain": [
       "0       Yet again fucking driver accepted the booking ...\n",
       "1       More than 1 hour and the food is still not her...\n",
       "2       No one is constantly as motherfucking assholes...\n",
       "3       Freelance content writers needed. Fully remote...\n",
       "4       , Are you guys even concerned about what type ...\n",
       "                              ...                        \n",
       "3239    Near death experience Zero ratings for design ...\n",
       "3240    Near death experience on highway, pathetic des...\n",
       "3241    Still nothing.. the front wheel wobbling and O...\n",
       "3242                                    After olas death?\n",
       "3243    My vehicle has still not come back to me they ...\n",
       "Name: content, Length: 3244, dtype: object"
      ]
     },
     "execution_count": 9,
     "metadata": {},
     "output_type": "execute_result"
    }
   ],
   "source": [
    "df['content']"
   ]
  },
  {
   "cell_type": "markdown",
   "id": "8a69aaf3",
   "metadata": {
    "papermill": {
     "duration": 0.009526,
     "end_time": "2025-01-06T17:50:22.178525",
     "exception": false,
     "start_time": "2025-01-06T17:50:22.168999",
     "status": "completed"
    },
    "tags": []
   },
   "source": [
    "### Using TextBlob"
   ]
  },
  {
   "cell_type": "code",
   "execution_count": 10,
   "id": "d23476bd",
   "metadata": {
    "execution": {
     "iopub.execute_input": "2025-01-06T17:50:22.195848Z",
     "iopub.status.busy": "2025-01-06T17:50:22.195381Z",
     "iopub.status.idle": "2025-01-06T17:50:25.774981Z",
     "shell.execute_reply": "2025-01-06T17:50:25.773518Z"
    },
    "papermill": {
     "duration": 3.590865,
     "end_time": "2025-01-06T17:50:25.777109",
     "exception": false,
     "start_time": "2025-01-06T17:50:22.186244",
     "status": "completed"
    },
    "tags": []
   },
   "outputs": [
    {
     "name": "stdout",
     "output_type": "stream",
     "text": [
      "Sentiment Distribution:\n",
      " sentiment\n",
      "Positive    40.289766\n",
      "Neutral     35.450062\n",
      "Negative    24.260173\n",
      "Name: proportion, dtype: float64\n"
     ]
    }
   ],
   "source": [
    "from textblob import TextBlob\n",
    "\n",
    "# function to analyze sentiment\n",
    "def analyze_sentiment(content):\n",
    "    analysis = TextBlob(content)\n",
    "    if analysis.sentiment.polarity > 0:\n",
    "        return 'Positive'\n",
    "    elif analysis.sentiment.polarity == 0:\n",
    "        return 'Neutral'\n",
    "    else:\n",
    "        return 'Negative'\n",
    "\n",
    "df['sentiment'] = df['content'].apply(analyze_sentiment)\n",
    "\n",
    "# Calculate sentiment distribution\n",
    "sentiment_distribution = df['sentiment'].value_counts(normalize=True) * 100\n",
    "\n",
    "print(\"Sentiment Distribution:\\n\", sentiment_distribution)\n"
   ]
  },
  {
   "cell_type": "markdown",
   "id": "b5380e77",
   "metadata": {
    "papermill": {
     "duration": 0.008301,
     "end_time": "2025-01-06T17:50:25.794143",
     "exception": false,
     "start_time": "2025-01-06T17:50:25.785842",
     "status": "completed"
    },
    "tags": []
   },
   "source": [
    "### Using VADER"
   ]
  },
  {
   "cell_type": "code",
   "execution_count": 11,
   "id": "7aed09f2",
   "metadata": {
    "execution": {
     "iopub.execute_input": "2025-01-06T17:50:25.812490Z",
     "iopub.status.busy": "2025-01-06T17:50:25.811834Z",
     "iopub.status.idle": "2025-01-06T17:50:32.544128Z",
     "shell.execute_reply": "2025-01-06T17:50:32.542272Z"
    },
    "papermill": {
     "duration": 6.743792,
     "end_time": "2025-01-06T17:50:32.546318",
     "exception": false,
     "start_time": "2025-01-06T17:50:25.802526",
     "status": "completed"
    },
    "tags": []
   },
   "outputs": [
    {
     "name": "stdout",
     "output_type": "stream",
     "text": [
      "Collecting vaderSentiment\r\n",
      "  Downloading vaderSentiment-3.3.2-py2.py3-none-any.whl.metadata (572 bytes)\r\n",
      "Requirement already satisfied: requests in /usr/local/lib/python3.10/dist-packages (from vaderSentiment) (2.32.3)\r\n",
      "Requirement already satisfied: charset-normalizer<4,>=2 in /usr/local/lib/python3.10/dist-packages (from requests->vaderSentiment) (3.3.2)\r\n",
      "Requirement already satisfied: idna<4,>=2.5 in /usr/local/lib/python3.10/dist-packages (from requests->vaderSentiment) (3.10)\r\n",
      "Requirement already satisfied: urllib3<3,>=1.21.1 in /usr/local/lib/python3.10/dist-packages (from requests->vaderSentiment) (2.2.3)\r\n",
      "Requirement already satisfied: certifi>=2017.4.17 in /usr/local/lib/python3.10/dist-packages (from requests->vaderSentiment) (2024.8.30)\r\n",
      "Downloading vaderSentiment-3.3.2-py2.py3-none-any.whl (125 kB)\r\n",
      "\u001b[2K   \u001b[90m━━━━━━━━━━━━━━━━━━━━━━━━━━━━━━━━━━━━━━━━\u001b[0m \u001b[32m126.0/126.0 kB\u001b[0m \u001b[31m4.0 MB/s\u001b[0m eta \u001b[36m0:00:00\u001b[0m\r\n",
      "\u001b[?25hInstalling collected packages: vaderSentiment\r\n",
      "Successfully installed vaderSentiment-3.3.2\r\n",
      "Note: you may need to restart the kernel to use updated packages.\n"
     ]
    }
   ],
   "source": [
    "pip install vaderSentiment"
   ]
  },
  {
   "cell_type": "code",
   "execution_count": 12,
   "id": "cadb8877",
   "metadata": {
    "execution": {
     "iopub.execute_input": "2025-01-06T17:50:32.564921Z",
     "iopub.status.busy": "2025-01-06T17:50:32.564563Z",
     "iopub.status.idle": "2025-01-06T17:50:33.146263Z",
     "shell.execute_reply": "2025-01-06T17:50:33.144613Z"
    },
    "papermill": {
     "duration": 0.593554,
     "end_time": "2025-01-06T17:50:33.148263",
     "exception": false,
     "start_time": "2025-01-06T17:50:32.554709",
     "status": "completed"
    },
    "tags": []
   },
   "outputs": [
    {
     "name": "stdout",
     "output_type": "stream",
     "text": [
      "Sentiment Distribution (VADER):\n",
      "sentiment\n",
      "Positive    44.081381\n",
      "Negative    32.336621\n",
      "Neutral     23.581998\n",
      "Name: proportion, dtype: float64\n"
     ]
    }
   ],
   "source": [
    "from vaderSentiment.vaderSentiment import SentimentIntensityAnalyzer\n",
    "\n",
    "analyzer = SentimentIntensityAnalyzer()\n",
    "\n",
    "def analyze_sentiment_vader(content):\n",
    "    score = analyzer.polarity_scores(content)['compound']\n",
    "    if score > 0.05:\n",
    "        return 'Positive'\n",
    "    elif score < -0.05:\n",
    "        return 'Negative'\n",
    "    else:\n",
    "        return 'Neutral'\n",
    "\n",
    "# Apply the function to the content column\n",
    "df['sentiment'] = df['content'].apply(analyze_sentiment_vader)\n",
    "\n",
    "# Calculate the percentage of posts in each sentiment category\n",
    "sentiment_distribution = df['sentiment'].value_counts(normalize=True) * 100\n",
    "\n",
    "print(\"Sentiment Distribution (VADER):\")\n",
    "print(sentiment_distribution)\n"
   ]
  },
  {
   "cell_type": "markdown",
   "id": "50d2486b",
   "metadata": {
    "papermill": {
     "duration": 0.00788,
     "end_time": "2025-01-06T17:50:33.164497",
     "exception": false,
     "start_time": "2025-01-06T17:50:33.156617",
     "status": "completed"
    },
    "tags": []
   },
   "source": [
    "# 5. Customer Complaints\n",
    "### Step 1: Extract Posts Mentioning Complaints\n",
    "We’ll use keywords to identify posts related to specific complaints."
   ]
  },
  {
   "cell_type": "code",
   "execution_count": 13,
   "id": "3ef9fde9",
   "metadata": {
    "execution": {
     "iopub.execute_input": "2025-01-06T17:50:33.182214Z",
     "iopub.status.busy": "2025-01-06T17:50:33.181812Z",
     "iopub.status.idle": "2025-01-06T17:50:33.212589Z",
     "shell.execute_reply": "2025-01-06T17:50:33.211324Z"
    },
    "papermill": {
     "duration": 0.042445,
     "end_time": "2025-01-06T17:50:33.214983",
     "exception": false,
     "start_time": "2025-01-06T17:50:33.172538",
     "status": "completed"
    },
    "tags": []
   },
   "outputs": [],
   "source": [
    "# keywords for complaints\n",
    "complaint_keywords = {\n",
    "    'Driver Issues': ['driver', 'rude', 'cancel', 'behavior', 'attitude'],\n",
    "    'Booking Cancellations': ['cancel', 'booking', 'refund', 'no show'],\n",
    "    'Customer Service': ['support', 'customer care', 'service', 'help']\n",
    "}\n",
    "\n",
    "# Function to categorize complaints\n",
    "def categorize_complaints(content):\n",
    "    for category, keywords in complaint_keywords.items():\n",
    "        if any(keyword in content.lower() for keyword in keywords):\n",
    "            return category\n",
    "    return 'Other'\n",
    "\n",
    "# Apply categorization\n",
    "df['complaint_category'] = df['content'].apply(categorize_complaints)"
   ]
  },
  {
   "cell_type": "markdown",
   "id": "70739b6f",
   "metadata": {
    "papermill": {
     "duration": 0.008207,
     "end_time": "2025-01-06T17:50:33.232109",
     "exception": false,
     "start_time": "2025-01-06T17:50:33.223902",
     "status": "completed"
    },
    "tags": []
   },
   "source": [
    "### Step 2: Count and Visualize Complaint Categories\n",
    "Calculate Complaint Counts"
   ]
  },
  {
   "cell_type": "code",
   "execution_count": 14,
   "id": "f238fd59",
   "metadata": {
    "execution": {
     "iopub.execute_input": "2025-01-06T17:50:33.251702Z",
     "iopub.status.busy": "2025-01-06T17:50:33.251345Z",
     "iopub.status.idle": "2025-01-06T17:50:33.259410Z",
     "shell.execute_reply": "2025-01-06T17:50:33.257700Z"
    },
    "papermill": {
     "duration": 0.020912,
     "end_time": "2025-01-06T17:50:33.261463",
     "exception": false,
     "start_time": "2025-01-06T17:50:33.240551",
     "status": "completed"
    },
    "tags": []
   },
   "outputs": [
    {
     "name": "stdout",
     "output_type": "stream",
     "text": [
      "Complaint Counts:\n",
      " complaint_category\n",
      "Other                    2298\n",
      "Customer Service          569\n",
      "Driver Issues             338\n",
      "Booking Cancellations      39\n",
      "Name: count, dtype: int64\n"
     ]
    }
   ],
   "source": [
    "complaint_counts = df['complaint_category'].value_counts()\n",
    "print(\"Complaint Counts:\\n\", complaint_counts)\n"
   ]
  },
  {
   "cell_type": "markdown",
   "id": "9662eaa3",
   "metadata": {
    "papermill": {
     "duration": 0.008267,
     "end_time": "2025-01-06T17:50:33.278652",
     "exception": false,
     "start_time": "2025-01-06T17:50:33.270385",
     "status": "completed"
    },
    "tags": []
   },
   "source": [
    "#### Visualize Complaint Categories"
   ]
  },
  {
   "cell_type": "code",
   "execution_count": 15,
   "id": "7e745d16",
   "metadata": {
    "execution": {
     "iopub.execute_input": "2025-01-06T17:50:33.297377Z",
     "iopub.status.busy": "2025-01-06T17:50:33.296986Z",
     "iopub.status.idle": "2025-01-06T17:50:33.594092Z",
     "shell.execute_reply": "2025-01-06T17:50:33.592575Z"
    },
    "papermill": {
     "duration": 0.30877,
     "end_time": "2025-01-06T17:50:33.596029",
     "exception": false,
     "start_time": "2025-01-06T17:50:33.287259",
     "status": "completed"
    },
    "tags": []
   },
   "outputs": [
    {
     "data": {
      "image/png": "[encoded data removed]",
      "text/plain": [
       "<Figure size 640x480 with 1 Axes>"
      ]
     },
     "metadata": {},
     "output_type": "display_data"
    }
   ],
   "source": [
    "import matplotlib.pyplot as plt\n",
    "\n",
    "# Plotting distribution of complaint categories\n",
    "complaint_counts.plot(kind='bar', color='skyblue')\n",
    "plt.title('Distribution of Complaint Categories')\n",
    "plt.xlabel('Complaint Category')\n",
    "plt.ylabel('Number of Posts')\n",
    "plt.xticks(rotation=45)\n",
    "plt.show()\n"
   ]
  },
  {
   "cell_type": "markdown",
   "id": "dbe87c05",
   "metadata": {
    "papermill": {
     "duration": 0.009163,
     "end_time": "2025-01-06T17:50:33.614526",
     "exception": false,
     "start_time": "2025-01-06T17:50:33.605363",
     "status": "completed"
    },
    "tags": []
   },
   "source": [
    "### Step 3: Analyze Extracted Complaints\n"
   ]
  },
  {
   "cell_type": "code",
   "execution_count": 16,
   "id": "9af82807",
   "metadata": {
    "execution": {
     "iopub.execute_input": "2025-01-06T17:50:33.634001Z",
     "iopub.status.busy": "2025-01-06T17:50:33.633627Z",
     "iopub.status.idle": "2025-01-06T17:50:33.647312Z",
     "shell.execute_reply": "2025-01-06T17:50:33.645536Z"
    },
    "papermill": {
     "duration": 0.025761,
     "end_time": "2025-01-06T17:50:33.649269",
     "exception": false,
     "start_time": "2025-01-06T17:50:33.623508",
     "status": "completed"
    },
    "tags": []
   },
   "outputs": [
    {
     "name": "stdout",
     "output_type": "stream",
     "text": [
      "\n",
      "Sample Driver Issues:\n",
      "                                                 content complaint_category\n",
      "0     Yet again fucking driver accepted the booking ...      Driver Issues\n",
      "2     No one is constantly as motherfucking assholes...      Driver Issues\n",
      "4     , Are you guys even concerned about what type ...      Driver Issues\n",
      "6     ola driver is rude and the way he was talking ...      Driver Issues\n",
      "13    Ola is hiring goons as drivers! Booked a cab f...      Driver Issues\n",
      "...                                                 ...                ...\n",
      "3142  I am doing the same.. Ola Cabs drivers too arr...      Driver Issues\n",
      "3143  It's the same with also, in kolkata drivers of...      Driver Issues\n",
      "3144  Shit service, basically if someone is in emerg...      Driver Issues\n",
      "3145  Issue: -Hostile Cab driver unfit for driving l...      Driver Issues\n",
      "3146  Something is seriously wrong with ola model. F...      Driver Issues\n",
      "\n",
      "[338 rows x 2 columns]\n"
     ]
    }
   ],
   "source": [
    "# Filter complaints for a specific category (e.g., Driver Issues)\n",
    "driver_issues = df[df['complaint_category'] == 'Driver Issues']\n",
    "print(\"\\nSample Driver Issues:\\n\", driver_issues[['content', 'complaint_category']])\n"
   ]
  },
  {
   "cell_type": "markdown",
   "id": "7994c500",
   "metadata": {
    "papermill": {
     "duration": 0.009221,
     "end_time": "2025-01-06T17:50:33.668242",
     "exception": false,
     "start_time": "2025-01-06T17:50:33.659021",
     "status": "completed"
    },
    "tags": []
   },
   "source": [
    "# 6. Engagement Analysis\n",
    "### Step 1: Correlation Between Followers and Engagement Metrics\n",
    "Calculate Correlation"
   ]
  },
  {
   "cell_type": "code",
   "execution_count": 17,
   "id": "74ae5db1",
   "metadata": {
    "execution": {
     "iopub.execute_input": "2025-01-06T17:50:33.688508Z",
     "iopub.status.busy": "2025-01-06T17:50:33.688159Z",
     "iopub.status.idle": "2025-01-06T17:50:33.697366Z",
     "shell.execute_reply": "2025-01-06T17:50:33.696183Z"
    },
    "papermill": {
     "duration": 0.021579,
     "end_time": "2025-01-06T17:50:33.699186",
     "exception": false,
     "start_time": "2025-01-06T17:50:33.677607",
     "status": "completed"
    },
    "tags": []
   },
   "outputs": [],
   "source": [
    "# Replaced 'comments' with the count of comments\n",
    "df['comments_count'] = df['comments'].apply(len)\n",
    "\n",
    "# updated engagement metrics for correlation\n",
    "engagement_metrics = ['followers', 'likes', 'shares', 'comments_count']\n"
   ]
  },
  {
   "cell_type": "code",
   "execution_count": 18,
   "id": "9379f0cf",
   "metadata": {
    "execution": {
     "iopub.execute_input": "2025-01-06T17:50:33.719500Z",
     "iopub.status.busy": "2025-01-06T17:50:33.719030Z",
     "iopub.status.idle": "2025-01-06T17:50:33.730494Z",
     "shell.execute_reply": "2025-01-06T17:50:33.729172Z"
    },
    "papermill": {
     "duration": 0.024082,
     "end_time": "2025-01-06T17:50:33.732689",
     "exception": false,
     "start_time": "2025-01-06T17:50:33.708607",
     "status": "completed"
    },
    "tags": []
   },
   "outputs": [
    {
     "name": "stdout",
     "output_type": "stream",
     "text": [
      "Correlation Matrix:\n",
      "                followers     likes    shares  comments_count\n",
      "followers        1.000000  0.064813  0.011604        0.104815\n",
      "likes            0.064813  1.000000  0.357393        0.501219\n",
      "shares           0.011604  0.357393  1.000000        0.208426\n",
      "comments_count   0.104815  0.501219  0.208426        1.000000\n"
     ]
    }
   ],
   "source": [
    "# correlation matrix\n",
    "correlation_matrix = df[engagement_metrics].corr()\n",
    "\n",
    "print(\"Correlation Matrix:\")\n",
    "print(correlation_matrix)\n"
   ]
  },
  {
   "cell_type": "code",
   "execution_count": 19,
   "id": "31029f9d",
   "metadata": {
    "execution": {
     "iopub.execute_input": "2025-01-06T17:50:33.753215Z",
     "iopub.status.busy": "2025-01-06T17:50:33.752730Z",
     "iopub.status.idle": "2025-01-06T17:50:34.578423Z",
     "shell.execute_reply": "2025-01-06T17:50:34.577095Z"
    },
    "papermill": {
     "duration": 0.838445,
     "end_time": "2025-01-06T17:50:34.580529",
     "exception": false,
     "start_time": "2025-01-06T17:50:33.742084",
     "status": "completed"
    },
    "tags": []
   },
   "outputs": [
    {
     "data": {
      "image/png": "[encoded data removed]",
      "text/plain": [
       "<Figure size 640x480 with 2 Axes>"
      ]
     },
     "metadata": {},
     "output_type": "display_data"
    }
   ],
   "source": [
    "import seaborn as sns\n",
    "import matplotlib.pyplot as plt\n",
    "\n",
    "# heatmap for the correlation matrix\n",
    "sns.heatmap(correlation_matrix, annot=True, cmap='coolwarm', fmt='.2f')\n",
    "plt.title('Correlation Between Followers and Engagement Metrics')\n",
    "plt.show()\n",
    "\n"
   ]
  },
  {
   "cell_type": "code",
   "execution_count": 20,
   "id": "d2ec6187",
   "metadata": {
    "execution": {
     "iopub.execute_input": "2025-01-06T17:50:34.603503Z",
     "iopub.status.busy": "2025-01-06T17:50:34.602812Z",
     "iopub.status.idle": "2025-01-06T17:50:34.861307Z",
     "shell.execute_reply": "2025-01-06T17:50:34.859965Z"
    },
    "papermill": {
     "duration": 0.272158,
     "end_time": "2025-01-06T17:50:34.863260",
     "exception": false,
     "start_time": "2025-01-06T17:50:34.591102",
     "status": "completed"
    },
    "tags": []
   },
   "outputs": [
    {
     "name": "stdout",
     "output_type": "stream",
     "text": [
      "\n",
      "Engagement Patterns by Source:\n",
      "source\n",
      "TWITTER    193.913995\n",
      "Name: engagement_score, dtype: float64\n"
     ]
    },
    {
     "data": {
      "image/png": "[encoded data removed]",
      "text/plain": [
       "<Figure size 640x480 with 1 Axes>"
      ]
     },
     "metadata": {},
     "output_type": "display_data"
    }
   ],
   "source": [
    "engagement_by_source = df.groupby('source')['engagement_score'].mean().sort_values(ascending=False)\n",
    "\n",
    "print(\"\\nEngagement Patterns by Source:\")\n",
    "print(engagement_by_source)\n",
    "\n",
    "engagement_by_source.plot(kind='bar', color='orange')\n",
    "plt.title('Average Engagement Score by Source')\n",
    "plt.xlabel('Source')\n",
    "plt.ylabel('Average Engagement Score')\n",
    "plt.xticks(rotation=45)\n",
    "plt.show()"
   ]
  },
  {
   "cell_type": "markdown",
   "id": "037e9497",
   "metadata": {
    "papermill": {
     "duration": 0.011094,
     "end_time": "2025-01-06T17:50:34.885958",
     "exception": false,
     "start_time": "2025-01-06T17:50:34.874864",
     "status": "completed"
    },
    "tags": []
   },
   "source": [
    "# 7. Recommendations\n",
    "actionable recommendations for Ola Cabs based on the findings from the analysis:"
   ]
  },
  {
   "cell_type": "markdown",
   "id": "7404db1d",
   "metadata": {
    "papermill": {
     "duration": 0.011213,
     "end_time": "2025-01-06T17:50:34.908396",
     "exception": false,
     "start_time": "2025-01-06T17:50:34.897183",
     "status": "completed"
    },
    "tags": []
   },
   "source": [
    "**Recommendations**\n",
    "\n",
    "* **Enhance Driver Training:**\n",
    "    * Address complaints about driver behavior and cancellations through mandatory training programs.\n",
    "    * Implement robust accountability mechanisms for drivers.\n",
    "\n",
    "* **Improve Customer Support:**\n",
    "    * Leverage AI-powered chatbots for faster initial issue resolution.\n",
    "    * Establish efficient escalation procedures to handle complex support requests.\n",
    "\n",
    "* **Optimize Social Media Strategy:**\n",
    "    * Focus on platforms with high user engagement, such as Instagram and Twitter.\n",
    "    * Increase the use of interactive content, including videos, polls, and contests, to enhance audience engagement."
   ]
  },
  {
   "cell_type": "code",
   "execution_count": 21,
   "id": "b1fc0b3a",
   "metadata": {
    "execution": {
     "iopub.execute_input": "2025-01-06T17:50:34.932778Z",
     "iopub.status.busy": "2025-01-06T17:50:34.932408Z",
     "iopub.status.idle": "2025-01-06T17:50:34.938101Z",
     "shell.execute_reply": "2025-01-06T17:50:34.936810Z"
    },
    "papermill": {
     "duration": 0.01988,
     "end_time": "2025-01-06T17:50:34.939846",
     "exception": false,
     "start_time": "2025-01-06T17:50:34.919966",
     "status": "completed"
    },
    "tags": []
   },
   "outputs": [
    {
     "name": "stdout",
     "output_type": "stream",
     "text": [
      "\n",
      "1. Enhance Driver Training:\n",
      "   - Address complaints about driver behavior and cancellations through mandatory training programs.\n",
      "   - Implement robust accountability mechanisms for drivers.\n",
      "\n",
      "2. Improve Customer Support:\n",
      "   - Leverage AI-powered chatbots for faster initial issue resolution.\n",
      "   - Establish efficient escalation procedures to handle complex support requests.\n",
      "\n",
      "3. Optimize Social Media Strategy:\n",
      "   - Focus on platforms with high user engagement, such as Instagram and Twitter.\n",
      "   - Increase the use of interactive content, including videos, polls, and contests, to enhance audience engagement.\n",
      "\n"
     ]
    }
   ],
   "source": [
    "recommendations = \"\"\"\n",
    "1. Enhance Driver Training:\n",
    "   - Address complaints about driver behavior and cancellations through mandatory training programs.\n",
    "   - Implement robust accountability mechanisms for drivers.\n",
    "\n",
    "2. Improve Customer Support:\n",
    "   - Leverage AI-powered chatbots for faster initial issue resolution.\n",
    "   - Establish efficient escalation procedures to handle complex support requests.\n",
    "\n",
    "3. Optimize Social Media Strategy:\n",
    "   - Focus on platforms with high user engagement, such as Instagram and Twitter.\n",
    "   - Increase the use of interactive content, including videos, polls, and contests, to enhance audience engagement.\n",
    "\"\"\"\n",
    "print(recommendations)"
   ]
  },
  {
   "cell_type": "markdown",
   "id": "af09e0a5",
   "metadata": {
    "papermill": {
     "duration": 0.011036,
     "end_time": "2025-01-06T17:50:34.962278",
     "exception": false,
     "start_time": "2025-01-06T17:50:34.951242",
     "status": "completed"
    },
    "tags": []
   },
   "source": [
    "# 8. Final Report\n",
    "Save the processed dataset and generate a concise report summarizing findings:"
   ]
  },
  {
   "cell_type": "code",
   "execution_count": 22,
   "id": "b3952059",
   "metadata": {
    "execution": {
     "iopub.execute_input": "2025-01-06T17:50:34.985820Z",
     "iopub.status.busy": "2025-01-06T17:50:34.985365Z",
     "iopub.status.idle": "2025-01-06T17:50:35.163682Z",
     "shell.execute_reply": "2025-01-06T17:50:35.162370Z"
    },
    "papermill": {
     "duration": 0.192525,
     "end_time": "2025-01-06T17:50:35.165713",
     "exception": false,
     "start_time": "2025-01-06T17:50:34.973188",
     "status": "completed"
    },
    "tags": []
   },
   "outputs": [],
   "source": [
    "# Saving processed DataFrame to a CSV file\n",
    "df.to_csv('processed_ola_data.csv', index=False)\n",
    "\n",
    "# summary report\n",
    "with open('assignment_report.txt', 'w') as report:\n",
    "    report.write(\"Key Insights:\\n\")\n",
    "    report.write(f\"Sentiment Distribution:\\n{sentiment_distribution}\\n\\n\")\n",
    "    report.write(f\"Complaint Categories:\\n{complaint_counts}\\n\\n\")\n",
    "    report.write(f\"Engagement by Source:\\n{engagement_by_source}\\n\\n\")\n",
    "    report.write(\"Recommendations:\\n\")\n",
    "    report.write(recommendations)\n"
   ]
  }
 ],
 "metadata": {
  "kaggle": {
   "accelerator": "none",
   "dataSources": [
    {
     "datasetId": 6424971,
     "sourceId": 10372335,
     "sourceType": "datasetVersion"
    }
   ],
   "dockerImageVersionId": 30822,
   "isGpuEnabled": false,
   "isInternetEnabled": true,
   "language": "python",
   "sourceType": "notebook"
  },
  "kernelspec": {
   "display_name": "Python 3",
   "language": "python",
   "name": "python3"
  },
  "language_info": {
   "codemirror_mode": {
    "name": "ipython",
    "version": 3
   },
   "file_extension": ".py",
   "mimetype": "text/x-python",
   "name": "python",
   "nbconvert_exporter": "python",
   "pygments_lexer": "ipython3",
   "version": "3.10.12"
  },
  "papermill": {
   "default_parameters": {},
   "duration": 18.741241,
   "end_time": "2025-01-06T17:50:36.201643",
   "environment_variables": {},
   "exception": null,
   "input_path": "__notebook__.ipynb",
   "output_path": "__notebook__.ipynb",
   "parameters": {},
   "start_time": "2025-01-06T17:50:17.460402",
   "version": "2.6.0"
  }
 },
 "nbformat": 4,
 "nbformat_minor": 5
}
